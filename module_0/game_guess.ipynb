{
 "cells": [
  {
   "cell_type": "code",
   "execution_count": 7,
   "metadata": {},
   "outputs": [],
   "source": [
    "import numpy as np\n",
    "def game_guess(number):\n",
    "    '''Сначала задаем границы диапазона, выбираем первым числом середину диапазона.\n",
    "Затем смещаем нижнюю и верхнюю границы диапазона если число больше или меньше.'''\n",
    "    count = 0       # счетчик попыток\n",
    "    low_num = 1     # нижнее значение диапазона\n",
    "    high_num = 100  # верхнее значение диапазона\n",
    "    while True:                            # бесконечный цикл угадывания\n",
    "        count+=1                           # увеличиваем счетчик с попыткой\n",
    "        specify = (low_num+high_num) // 2  # предполагаем значением середину диапазона\n",
    "        if number == specify:              # сравниваем загаданное с предполагаемым, совпало - выходим из цикла \n",
    "            break\n",
    "        elif number > specify:              \n",
    "            low_num = specify + 1          # если больше увеличиваем нижнюю границу\n",
    "        else: \n",
    "            high_num = specify - 1         # если меньше уменьшаем верхнюю границу\n",
    "    return(count) # выход из цикла, если угадали\n",
    "\n",
    "\n",
    "def score_game(game_core):\n",
    "    '''Запускаем игру 1000 раз, чтобы узнать, как быстро игра угадывает число'''\n",
    "    count_ls = []\n",
    "    np.random.seed(1)  # фиксируем RANDOM SEED, чтобы ваш эксперимент был воспроизводим!\n",
    "    random_array = np.random.randint(1,101, size=(1000))\n",
    "    for number in random_array:\n",
    "        count_ls.append(game_core(number))\n",
    "    score = int(np.mean(count_ls))\n",
    "    print(f\"Ваш алгоритм угадывает число в среднем за {score} попыток\")\n",
    "    return(score)"
   ]
  },
  {
   "cell_type": "code",
   "execution_count": 8,
   "metadata": {},
   "outputs": [
    {
     "name": "stdout",
     "output_type": "stream",
     "text": [
      "Ваш алгоритм угадывает число в среднем за 5 попыток\n"
     ]
    },
    {
     "data": {
      "text/plain": [
       "5"
      ]
     },
     "execution_count": 8,
     "metadata": {},
     "output_type": "execute_result"
    }
   ],
   "source": [
    "# Проверяем\n",
    "score_game(game_guess)"
   ]
  }
 ],
 "metadata": {
  "kernelspec": {
   "display_name": "Python 3",
   "language": "python",
   "name": "python3"
  },
  "language_info": {
   "codemirror_mode": {
    "name": "ipython",
    "version": 3
   },
   "file_extension": ".py",
   "mimetype": "text/x-python",
   "name": "python",
   "nbconvert_exporter": "python",
   "pygments_lexer": "ipython3",
   "version": "3.8.3"
  }
 },
 "nbformat": 4,
 "nbformat_minor": 4
}
