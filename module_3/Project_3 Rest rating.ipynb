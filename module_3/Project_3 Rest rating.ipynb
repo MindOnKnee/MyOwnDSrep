{
 "cells": [
  {
   "cell_type": "markdown",
   "metadata": {},
   "source": [
    "# Загрузка Pandas и очистка данных"
   ]
  },
  {
   "cell_type": "code",
   "execution_count": 27,
   "metadata": {},
   "outputs": [],
   "source": [
    "import pandas as pd\n",
    "import numpy as np\n",
    "import re\n",
    "import statistics\n",
    "import matplotlib.pyplot as plt\n",
    "import seaborn as sns\n",
    "from geopy.geocoders import Nominatim\n",
    "%matplotlib inline"
   ]
  },
  {
   "cell_type": "code",
   "execution_count": 2,
   "metadata": {},
   "outputs": [
    {
     "data": {
      "text/html": [
       "<div>\n",
       "<style scoped>\n",
       "    .dataframe tbody tr th:only-of-type {\n",
       "        vertical-align: middle;\n",
       "    }\n",
       "\n",
       "    .dataframe tbody tr th {\n",
       "        vertical-align: top;\n",
       "    }\n",
       "\n",
       "    .dataframe thead th {\n",
       "        text-align: right;\n",
       "    }\n",
       "</style>\n",
       "<table border=\"1\" class=\"dataframe\">\n",
       "  <thead>\n",
       "    <tr style=\"text-align: right;\">\n",
       "      <th></th>\n",
       "      <th>restaurant_id</th>\n",
       "      <th>city</th>\n",
       "      <th>cuisine_style</th>\n",
       "      <th>ranking</th>\n",
       "      <th>rating</th>\n",
       "      <th>price_range</th>\n",
       "      <th>number_of_reviews</th>\n",
       "      <th>reviews</th>\n",
       "      <th>url_ta</th>\n",
       "      <th>id_ta</th>\n",
       "    </tr>\n",
       "  </thead>\n",
       "  <tbody>\n",
       "    <tr>\n",
       "      <th>0</th>\n",
       "      <td>id_5569</td>\n",
       "      <td>Paris</td>\n",
       "      <td>['European', 'French', 'International']</td>\n",
       "      <td>5570.0</td>\n",
       "      <td>3.5</td>\n",
       "      <td>$$ - $$$</td>\n",
       "      <td>194.0</td>\n",
       "      <td>[['Good food at your doorstep', 'A good hotel ...</td>\n",
       "      <td>/Restaurant_Review-g187147-d1912643-Reviews-R_...</td>\n",
       "      <td>d1912643</td>\n",
       "    </tr>\n",
       "    <tr>\n",
       "      <th>1</th>\n",
       "      <td>id_1535</td>\n",
       "      <td>Stockholm</td>\n",
       "      <td>NaN</td>\n",
       "      <td>1537.0</td>\n",
       "      <td>4.0</td>\n",
       "      <td>NaN</td>\n",
       "      <td>10.0</td>\n",
       "      <td>[['Unique cuisine', 'Delicious Nepalese food']...</td>\n",
       "      <td>/Restaurant_Review-g189852-d7992032-Reviews-Bu...</td>\n",
       "      <td>d7992032</td>\n",
       "    </tr>\n",
       "    <tr>\n",
       "      <th>2</th>\n",
       "      <td>id_352</td>\n",
       "      <td>London</td>\n",
       "      <td>['Japanese', 'Sushi', 'Asian', 'Grill', 'Veget...</td>\n",
       "      <td>353.0</td>\n",
       "      <td>4.5</td>\n",
       "      <td>$$$$</td>\n",
       "      <td>688.0</td>\n",
       "      <td>[['Catch up with friends', 'Not exceptional'],...</td>\n",
       "      <td>/Restaurant_Review-g186338-d8632781-Reviews-RO...</td>\n",
       "      <td>d8632781</td>\n",
       "    </tr>\n",
       "    <tr>\n",
       "      <th>3</th>\n",
       "      <td>id_3456</td>\n",
       "      <td>Berlin</td>\n",
       "      <td>NaN</td>\n",
       "      <td>3458.0</td>\n",
       "      <td>5.0</td>\n",
       "      <td>NaN</td>\n",
       "      <td>3.0</td>\n",
       "      <td>[[], []]</td>\n",
       "      <td>/Restaurant_Review-g187323-d1358776-Reviews-Es...</td>\n",
       "      <td>d1358776</td>\n",
       "    </tr>\n",
       "    <tr>\n",
       "      <th>4</th>\n",
       "      <td>id_615</td>\n",
       "      <td>Munich</td>\n",
       "      <td>['German', 'Central European', 'Vegetarian Fri...</td>\n",
       "      <td>621.0</td>\n",
       "      <td>4.0</td>\n",
       "      <td>$$ - $$$</td>\n",
       "      <td>84.0</td>\n",
       "      <td>[['Best place to try a Bavarian food', 'Nice b...</td>\n",
       "      <td>/Restaurant_Review-g187309-d6864963-Reviews-Au...</td>\n",
       "      <td>d6864963</td>\n",
       "    </tr>\n",
       "  </tbody>\n",
       "</table>\n",
       "</div>"
      ],
      "text/plain": [
       "  restaurant_id       city                                      cuisine_style  \\\n",
       "0       id_5569      Paris            ['European', 'French', 'International']   \n",
       "1       id_1535  Stockholm                                                NaN   \n",
       "2        id_352     London  ['Japanese', 'Sushi', 'Asian', 'Grill', 'Veget...   \n",
       "3       id_3456     Berlin                                                NaN   \n",
       "4        id_615     Munich  ['German', 'Central European', 'Vegetarian Fri...   \n",
       "\n",
       "   ranking  rating price_range  number_of_reviews  \\\n",
       "0   5570.0     3.5    $$ - $$$              194.0   \n",
       "1   1537.0     4.0         NaN               10.0   \n",
       "2    353.0     4.5        $$$$              688.0   \n",
       "3   3458.0     5.0         NaN                3.0   \n",
       "4    621.0     4.0    $$ - $$$               84.0   \n",
       "\n",
       "                                             reviews  \\\n",
       "0  [['Good food at your doorstep', 'A good hotel ...   \n",
       "1  [['Unique cuisine', 'Delicious Nepalese food']...   \n",
       "2  [['Catch up with friends', 'Not exceptional'],...   \n",
       "3                                           [[], []]   \n",
       "4  [['Best place to try a Bavarian food', 'Nice b...   \n",
       "\n",
       "                                              url_ta     id_ta  \n",
       "0  /Restaurant_Review-g187147-d1912643-Reviews-R_...  d1912643  \n",
       "1  /Restaurant_Review-g189852-d7992032-Reviews-Bu...  d7992032  \n",
       "2  /Restaurant_Review-g186338-d8632781-Reviews-RO...  d8632781  \n",
       "3  /Restaurant_Review-g187323-d1358776-Reviews-Es...  d1358776  \n",
       "4  /Restaurant_Review-g187309-d6864963-Reviews-Au...  d6864963  "
      ]
     },
     "execution_count": 2,
     "metadata": {},
     "output_type": "execute_result"
    }
   ],
   "source": [
    "df = pd.read_csv('main_task.csv', low_memory=False)\n",
    "df.columns = ['restaurant_id', 'city', 'cuisine_style', 'ranking', 'rating',\n",
    "              'price_range', 'number_of_reviews', 'reviews', 'url_ta', 'id_ta']\n",
    "df.head()"
   ]
  },
  {
   "cell_type": "markdown",
   "metadata": {},
   "source": [
    "## Предобработка"
   ]
  },
  {
   "cell_type": "code",
   "execution_count": 31,
   "metadata": {},
   "outputs": [],
   "source": [
    "def clean_name(str_val):\n",
    "    \"\"\"\n",
    "    Преобразует строку с названиями в список [list] названий.\n",
    "    На входе:\n",
    "        - строковая переменная, содержащая названия.\n",
    "    На выходе:\n",
    "        - список [list] названий.\n",
    "    \"\"\"\n",
    "    if pd.isna(str_val):\n",
    "        return [\"unknown\"]\n",
    "    str_val = str_val.strip('[]')  # Отбрасываем скобки.\n",
    "    str_val = str_val.replace(\"\\'\", '')  # Убираем кавычки '.\n",
    "    str_val = str_val.split(\", \")  # Разбиваем строку по названиям.\n",
    "    return str_val\n",
    "\n",
    "\n",
    "geolocator = Nominatim(user_agent=\"Google\")\n",
    "\n",
    "\n",
    "def country(city):\n",
    "    \"\"\"\n",
    "    С помощью библиотеки geopy определяется геолокация города \n",
    "    по нему определяется страна \n",
    "    \"\"\"\n",
    "    location = geolocator.geocode(\n",
    "        city, exactly_one=True, addressdetails=True, language='en')\n",
    "    address = location.raw['address']\n",
    "    country = address.get('country', '')\n",
    "    return country\n",
    "\n",
    "\n",
    "def get_boxplot(column):\n",
    "    fig, ax = plt.subplots(figsize=(10, 4))\n",
    "    sns.boxplot(x=column, y='rating',\n",
    "                data=df.loc[df.loc[:, column].isin(\n",
    "                    df.loc[:, column].value_counts().index[:40])],\n",
    "                ax=ax)\n",
    "    plt.xticks(rotation=45)\n",
    "    ax.set_title('Boxplot for ' + column)\n",
    "    plt.show()"
   ]
  },
  {
   "cell_type": "code",
   "execution_count": 4,
   "metadata": {
    "scrolled": true
   },
   "outputs": [
    {
     "name": "stdout",
     "output_type": "stream",
     "text": [
      "<class 'pandas.core.frame.DataFrame'>\n",
      "RangeIndex: 40000 entries, 0 to 39999\n",
      "Data columns (total 10 columns):\n",
      " #   Column             Non-Null Count  Dtype  \n",
      "---  ------             --------------  -----  \n",
      " 0   restaurant_id      40000 non-null  object \n",
      " 1   city               40000 non-null  object \n",
      " 2   cuisine_style      30717 non-null  object \n",
      " 3   ranking            40000 non-null  float64\n",
      " 4   rating             40000 non-null  float64\n",
      " 5   price_range        26114 non-null  object \n",
      " 6   number_of_reviews  37457 non-null  float64\n",
      " 7   reviews            40000 non-null  object \n",
      " 8   url_ta             40000 non-null  object \n",
      " 9   id_ta              40000 non-null  object \n",
      "dtypes: float64(3), object(7)\n",
      "memory usage: 3.1+ MB\n",
      "Столбцов с нулевыми значениями: 3\n"
     ]
    },
    {
     "data": {
      "text/plain": [
       "restaurant_id            0\n",
       "city                     0\n",
       "cuisine_style         9283\n",
       "ranking                  0\n",
       "rating                   0\n",
       "price_range          13886\n",
       "number_of_reviews     2543\n",
       "reviews                  0\n",
       "url_ta                   0\n",
       "id_ta                    0\n",
       "dtype: int64"
      ]
     },
     "metadata": {},
     "output_type": "display_data"
    }
   ],
   "source": [
    "df.info()\n",
    "print('Столбцов с нулевыми значениями:', len(df.columns[df.isna().any()]))\n",
    "display(df.isna().sum())"
   ]
  },
  {
   "cell_type": "raw",
   "metadata": {},
   "source": [
    "требуется обработать пустые значения в 3-х столбцах"
   ]
  },
  {
   "cell_type": "code",
   "execution_count": 5,
   "metadata": {},
   "outputs": [
    {
     "data": {
      "text/plain": [
       "array(['$$ - $$$', nan, '$$$$', '$'], dtype=object)"
      ]
     },
     "execution_count": 5,
     "metadata": {},
     "output_type": "execute_result"
    }
   ],
   "source": [
    "df['price_range'].unique()"
   ]
  },
  {
   "cell_type": "code",
   "execution_count": 6,
   "metadata": {
    "scrolled": true
   },
   "outputs": [
    {
     "data": {
      "text/plain": [
       "18412"
      ]
     },
     "execution_count": 6,
     "metadata": {},
     "output_type": "execute_result"
    }
   ],
   "source": [
    "df.restaurant_id[df['price_range'] == '$$ - $$$'].count()"
   ]
  },
  {
   "cell_type": "code",
   "execution_count": 7,
   "metadata": {},
   "outputs": [
    {
     "data": {
      "text/plain": [
       "31"
      ]
     },
     "execution_count": 7,
     "metadata": {},
     "output_type": "execute_result"
    }
   ],
   "source": [
    "df.city.nunique()"
   ]
  },
  {
   "cell_type": "code",
   "execution_count": 8,
   "metadata": {},
   "outputs": [],
   "source": [
    "# очищаем и разбиваем списки кухонь поэлементно\n",
    "df['cuisine_style'] = df['cuisine_style'].apply(clean_name)\n",
    "df = df.explode('cuisine_style')"
   ]
  },
  {
   "cell_type": "code",
   "execution_count": 9,
   "metadata": {},
   "outputs": [
    {
     "data": {
      "text/plain": [
       "125"
      ]
     },
     "execution_count": 9,
     "metadata": {},
     "output_type": "execute_result"
    }
   ],
   "source": [
    "df['cuisine_style'].nunique()-1"
   ]
  },
  {
   "cell_type": "code",
   "execution_count": 10,
   "metadata": {
    "scrolled": true
   },
   "outputs": [
    {
     "data": {
      "text/plain": [
       "Vegetarian Friendly    11189\n",
       "European               10060\n",
       "unknown                 9283\n",
       "Mediterranean           6277\n",
       "Italian                 5964\n",
       "                       ...  \n",
       "Latvian                    1\n",
       "Salvadoran                 1\n",
       "Burmese                    1\n",
       "Yunnan                     1\n",
       "Xinjiang                   1\n",
       "Name: cuisine_style, Length: 126, dtype: int64"
      ]
     },
     "execution_count": 10,
     "metadata": {},
     "output_type": "execute_result"
    }
   ],
   "source": [
    "df['cuisine_style'].value_counts()"
   ]
  },
  {
   "cell_type": "code",
   "execution_count": 11,
   "metadata": {},
   "outputs": [
    {
     "data": {
      "text/plain": [
       "2.6"
      ]
     },
     "execution_count": 11,
     "metadata": {},
     "output_type": "execute_result"
    }
   ],
   "source": [
    "data = pd.read_csv('main_task.csv')\n",
    "data['Cuisine Style'] = data['Cuisine Style'].apply(clean_name)\n",
    "round(data['Cuisine Style'].apply(lambda x: len(x)).mean(), 1)"
   ]
  },
  {
   "cell_type": "code",
   "execution_count": 12,
   "metadata": {
    "scrolled": true
   },
   "outputs": [
    {
     "data": {
      "text/plain": [
       "Timedelta('3207 days 00:00:00')"
      ]
     },
     "execution_count": 12,
     "metadata": {},
     "output_type": "execute_result"
    }
   ],
   "source": [
    "data = df.copy()\n",
    "pattern = re.compile('\\'\\d+\\/\\d+\\/\\d+\\'')\n",
    "data['rev_date'] = df['reviews'].apply(pattern.findall)\n",
    "data['rev_date'] = data['rev_date'].apply(lambda x: [x[-2], x[-1]] if len(x) >= 3\n",
    "                                          else x)\n",
    "data['rev_1'] = data['rev_date'].apply(lambda x: x[0] if len(x) >= 1 else None)\n",
    "data['rev_2'] = data['rev_date'].apply(lambda x: x[1] if len(x) == 2 else None)\n",
    "\n",
    "data['rev_1'] = pd.to_datetime(data['rev_1'])\n",
    "data['rev_2'] = pd.to_datetime(data['rev_2'])\n",
    "# добавляем новый признак разница в днях между отзывами\n",
    "df['day_rev'] = abs(data['rev_1'] - data['rev_2'])\n",
    "# преобразуем к нужному формату из timedelta\n",
    "df['day_rev'] = df['day_rev'].apply(lambda x: float(x.days))\n",
    "delta = abs(data['rev_1'] - data['rev_2']).max()\n",
    "delta"
   ]
  },
  {
   "cell_type": "code",
   "execution_count": 13,
   "metadata": {
    "scrolled": true
   },
   "outputs": [
    {
     "name": "stdout",
     "output_type": "stream",
     "text": [
      "2018-02-26 00:00:00\n"
     ]
    }
   ],
   "source": [
    "template = re.compile('\\'\\d+\\/\\d+\\/\\d+\\'')\n",
    "df['reviews_date'] = df['reviews'].apply(template.findall)\n",
    "df = df.explode('reviews_date')\n",
    "df['reviews_date'] = pd.to_datetime(df['reviews_date'])\n",
    "max_date = df['reviews_date'].max()\n",
    "print(max_date)"
   ]
  },
  {
   "cell_type": "code",
   "execution_count": 14,
   "metadata": {
    "scrolled": true
   },
   "outputs": [
    {
     "name": "stdout",
     "output_type": "stream",
     "text": [
      "<class 'pandas.core.frame.DataFrame'>\n",
      "Int64Index: 193660 entries, 0 to 39999\n",
      "Data columns (total 12 columns):\n",
      " #   Column             Non-Null Count   Dtype         \n",
      "---  ------             --------------   -----         \n",
      " 0   restaurant_id      193660 non-null  object        \n",
      " 1   city               193660 non-null  object        \n",
      " 2   cuisine_style      193660 non-null  object        \n",
      " 3   ranking            193660 non-null  float64       \n",
      " 4   rating             193660 non-null  float64       \n",
      " 5   price_range        170011 non-null  object        \n",
      " 6   number_of_reviews  190101 non-null  float64       \n",
      " 7   reviews            193660 non-null  object        \n",
      " 8   url_ta             193660 non-null  object        \n",
      " 9   id_ta              193660 non-null  object        \n",
      " 10  day_rev            177528 non-null  float64       \n",
      " 11  reviews_date       184350 non-null  datetime64[ns]\n",
      "dtypes: datetime64[ns](1), float64(4), object(7)\n",
      "memory usage: 19.2+ MB\n"
     ]
    }
   ],
   "source": [
    "df.info()"
   ]
  },
  {
   "cell_type": "code",
   "execution_count": 15,
   "metadata": {},
   "outputs": [],
   "source": [
    "# преображаем в числовой тип\n",
    "df['price_range'] = df['price_range'].apply(lambda x: float(1) if x == '$' else\n",
    "                                            float(2) if x == '$$ - $$$' else\n",
    "                                            float(3) if x == '$$$$' else None)"
   ]
  },
  {
   "cell_type": "code",
   "execution_count": 16,
   "metadata": {},
   "outputs": [],
   "source": [
    "# заполняем модой пропуски\n",
    "df['price_range'] = df['price_range'].fillna(statistics.mode(df.price_range))"
   ]
  },
  {
   "cell_type": "code",
   "execution_count": 17,
   "metadata": {},
   "outputs": [],
   "source": [
    "df['number_of_reviews'] = df['number_of_reviews'].fillna(\n",
    "    df['number_of_reviews'].median())"
   ]
  },
  {
   "cell_type": "code",
   "execution_count": 18,
   "metadata": {},
   "outputs": [],
   "source": [
    "df['reviews'] = df['reviews'].apply(clean_name)\n",
    "df.reviews = df.reviews.apply(lambda x: [x[0], x[1]] if len(x) >= 3\n",
    "                              else x)"
   ]
  },
  {
   "cell_type": "code",
   "execution_count": 19,
   "metadata": {
    "scrolled": true
   },
   "outputs": [],
   "source": [
    "# Убираем лишнее из rest_id и преобразуем в integer\n",
    "df['restaurant_id'] = df['restaurant_id'].apply(\n",
    "    lambda x: int(x.replace('id_', '')))"
   ]
  },
  {
   "cell_type": "code",
   "execution_count": 20,
   "metadata": {},
   "outputs": [],
   "source": [
    "\"\"\"\n",
    "    Создается фрейм с соответсвием rest_id количеству id TripAdviser.\n",
    "    Если одному rest_id соответсвует больше 1 id TA, значит ресторан сетевой = 1\n",
    "    Если 1, то не сетевой = 0\n",
    "    Создается новый признак в основном фрейме\n",
    "\"\"\"\n",
    "data2 = pd.DataFrame(df.groupby(['restaurant_id'])['id_ta'].nunique())\n",
    "for i in data2.index:\n",
    "    if data2.loc[i].id_ta > 1:\n",
    "        df.loc[df['restaurant_id'] == i, 'chain_rest'] = 1\n",
    "    else:\n",
    "        df.loc[df['restaurant_id'] == i, 'chain_rest'] = 0"
   ]
  },
  {
   "cell_type": "code",
   "execution_count": 21,
   "metadata": {
    "scrolled": true
   },
   "outputs": [],
   "source": [
    "# заполняем пустые значения дней между отзывами самым частым значением\n",
    "df['day_rev'] = df['day_rev'].fillna(statistics.mode(df.day_rev))"
   ]
  },
  {
   "cell_type": "code",
   "execution_count": 22,
   "metadata": {},
   "outputs": [],
   "source": [
    "\"\"\"\n",
    "чтобы ускорить проходку по всем городам и заполнение страны по городу\n",
    "создаем список уникальных городов и если город в списке \n",
    "значит заполнение страны не требуется\n",
    "\"\"\"\n",
    "\n",
    "unique_cities = []\n",
    "for town in df.city:\n",
    "    if town not in unique_cities:\n",
    "        unique_cities.append(town)\n",
    "        df.loc[df['city'] == town, 'country'] = country(town)"
   ]
  },
  {
   "cell_type": "code",
   "execution_count": 23,
   "metadata": {
    "scrolled": true
   },
   "outputs": [
    {
     "data": {
      "text/html": [
       "<div>\n",
       "<style scoped>\n",
       "    .dataframe tbody tr th:only-of-type {\n",
       "        vertical-align: middle;\n",
       "    }\n",
       "\n",
       "    .dataframe tbody tr th {\n",
       "        vertical-align: top;\n",
       "    }\n",
       "\n",
       "    .dataframe thead th {\n",
       "        text-align: right;\n",
       "    }\n",
       "</style>\n",
       "<table border=\"1\" class=\"dataframe\">\n",
       "  <thead>\n",
       "    <tr style=\"text-align: right;\">\n",
       "      <th></th>\n",
       "      <th>restaurant_id</th>\n",
       "      <th>city</th>\n",
       "      <th>cuisine_style</th>\n",
       "      <th>ranking</th>\n",
       "      <th>rating</th>\n",
       "      <th>price_range</th>\n",
       "      <th>number_of_reviews</th>\n",
       "      <th>reviews</th>\n",
       "      <th>url_ta</th>\n",
       "      <th>id_ta</th>\n",
       "      <th>day_rev</th>\n",
       "      <th>reviews_date</th>\n",
       "      <th>chain_rest</th>\n",
       "      <th>country</th>\n",
       "    </tr>\n",
       "  </thead>\n",
       "  <tbody>\n",
       "    <tr>\n",
       "      <th>0</th>\n",
       "      <td>5569</td>\n",
       "      <td>Paris</td>\n",
       "      <td>European</td>\n",
       "      <td>5570.0</td>\n",
       "      <td>3.5</td>\n",
       "      <td>2.0</td>\n",
       "      <td>194.0</td>\n",
       "      <td>[Good food at your doorstep, A good hotel rest...</td>\n",
       "      <td>/Restaurant_Review-g187147-d1912643-Reviews-R_...</td>\n",
       "      <td>d1912643</td>\n",
       "      <td>41.0</td>\n",
       "      <td>2017-12-31</td>\n",
       "      <td>1.0</td>\n",
       "      <td>France</td>\n",
       "    </tr>\n",
       "    <tr>\n",
       "      <th>1</th>\n",
       "      <td>5569</td>\n",
       "      <td>Paris</td>\n",
       "      <td>European</td>\n",
       "      <td>5570.0</td>\n",
       "      <td>3.5</td>\n",
       "      <td>2.0</td>\n",
       "      <td>194.0</td>\n",
       "      <td>[Good food at your doorstep, A good hotel rest...</td>\n",
       "      <td>/Restaurant_Review-g187147-d1912643-Reviews-R_...</td>\n",
       "      <td>d1912643</td>\n",
       "      <td>41.0</td>\n",
       "      <td>2017-11-20</td>\n",
       "      <td>1.0</td>\n",
       "      <td>France</td>\n",
       "    </tr>\n",
       "    <tr>\n",
       "      <th>2</th>\n",
       "      <td>5569</td>\n",
       "      <td>Paris</td>\n",
       "      <td>French</td>\n",
       "      <td>5570.0</td>\n",
       "      <td>3.5</td>\n",
       "      <td>2.0</td>\n",
       "      <td>194.0</td>\n",
       "      <td>[Good food at your doorstep, A good hotel rest...</td>\n",
       "      <td>/Restaurant_Review-g187147-d1912643-Reviews-R_...</td>\n",
       "      <td>d1912643</td>\n",
       "      <td>41.0</td>\n",
       "      <td>2017-12-31</td>\n",
       "      <td>1.0</td>\n",
       "      <td>France</td>\n",
       "    </tr>\n",
       "    <tr>\n",
       "      <th>3</th>\n",
       "      <td>5569</td>\n",
       "      <td>Paris</td>\n",
       "      <td>French</td>\n",
       "      <td>5570.0</td>\n",
       "      <td>3.5</td>\n",
       "      <td>2.0</td>\n",
       "      <td>194.0</td>\n",
       "      <td>[Good food at your doorstep, A good hotel rest...</td>\n",
       "      <td>/Restaurant_Review-g187147-d1912643-Reviews-R_...</td>\n",
       "      <td>d1912643</td>\n",
       "      <td>41.0</td>\n",
       "      <td>2017-11-20</td>\n",
       "      <td>1.0</td>\n",
       "      <td>France</td>\n",
       "    </tr>\n",
       "    <tr>\n",
       "      <th>4</th>\n",
       "      <td>5569</td>\n",
       "      <td>Paris</td>\n",
       "      <td>International</td>\n",
       "      <td>5570.0</td>\n",
       "      <td>3.5</td>\n",
       "      <td>2.0</td>\n",
       "      <td>194.0</td>\n",
       "      <td>[Good food at your doorstep, A good hotel rest...</td>\n",
       "      <td>/Restaurant_Review-g187147-d1912643-Reviews-R_...</td>\n",
       "      <td>d1912643</td>\n",
       "      <td>41.0</td>\n",
       "      <td>2017-12-31</td>\n",
       "      <td>1.0</td>\n",
       "      <td>France</td>\n",
       "    </tr>\n",
       "    <tr>\n",
       "      <th>...</th>\n",
       "      <td>...</td>\n",
       "      <td>...</td>\n",
       "      <td>...</td>\n",
       "      <td>...</td>\n",
       "      <td>...</td>\n",
       "      <td>...</td>\n",
       "      <td>...</td>\n",
       "      <td>...</td>\n",
       "      <td>...</td>\n",
       "      <td>...</td>\n",
       "      <td>...</td>\n",
       "      <td>...</td>\n",
       "      <td>...</td>\n",
       "      <td>...</td>\n",
       "    </tr>\n",
       "    <tr>\n",
       "      <th>193655</th>\n",
       "      <td>640</td>\n",
       "      <td>Warsaw</td>\n",
       "      <td>Central European</td>\n",
       "      <td>641.0</td>\n",
       "      <td>4.0</td>\n",
       "      <td>2.0</td>\n",
       "      <td>70.0</td>\n",
       "      <td>[Underground restaurant, Oldest Restaurant in ...</td>\n",
       "      <td>/Restaurant_Review-g274856-d1100838-Reviews-Ho...</td>\n",
       "      <td>d1100838</td>\n",
       "      <td>23.0</td>\n",
       "      <td>2017-06-18</td>\n",
       "      <td>1.0</td>\n",
       "      <td>Poland</td>\n",
       "    </tr>\n",
       "    <tr>\n",
       "      <th>193656</th>\n",
       "      <td>640</td>\n",
       "      <td>Warsaw</td>\n",
       "      <td>Vegetarian Friendly</td>\n",
       "      <td>641.0</td>\n",
       "      <td>4.0</td>\n",
       "      <td>2.0</td>\n",
       "      <td>70.0</td>\n",
       "      <td>[Underground restaurant, Oldest Restaurant in ...</td>\n",
       "      <td>/Restaurant_Review-g274856-d1100838-Reviews-Ho...</td>\n",
       "      <td>d1100838</td>\n",
       "      <td>23.0</td>\n",
       "      <td>2017-07-11</td>\n",
       "      <td>1.0</td>\n",
       "      <td>Poland</td>\n",
       "    </tr>\n",
       "    <tr>\n",
       "      <th>193657</th>\n",
       "      <td>640</td>\n",
       "      <td>Warsaw</td>\n",
       "      <td>Vegetarian Friendly</td>\n",
       "      <td>641.0</td>\n",
       "      <td>4.0</td>\n",
       "      <td>2.0</td>\n",
       "      <td>70.0</td>\n",
       "      <td>[Underground restaurant, Oldest Restaurant in ...</td>\n",
       "      <td>/Restaurant_Review-g274856-d1100838-Reviews-Ho...</td>\n",
       "      <td>d1100838</td>\n",
       "      <td>23.0</td>\n",
       "      <td>2017-06-18</td>\n",
       "      <td>1.0</td>\n",
       "      <td>Poland</td>\n",
       "    </tr>\n",
       "    <tr>\n",
       "      <th>193658</th>\n",
       "      <td>4824</td>\n",
       "      <td>Milan</td>\n",
       "      <td>Spanish</td>\n",
       "      <td>4827.0</td>\n",
       "      <td>3.0</td>\n",
       "      <td>2.0</td>\n",
       "      <td>260.0</td>\n",
       "      <td>[Average, Nice an informal]]</td>\n",
       "      <td>/Restaurant_Review-g187849-d1109020-Reviews-Ta...</td>\n",
       "      <td>d1109020</td>\n",
       "      <td>1306.0</td>\n",
       "      <td>2016-01-31</td>\n",
       "      <td>1.0</td>\n",
       "      <td>Italy</td>\n",
       "    </tr>\n",
       "    <tr>\n",
       "      <th>193659</th>\n",
       "      <td>4824</td>\n",
       "      <td>Milan</td>\n",
       "      <td>Spanish</td>\n",
       "      <td>4827.0</td>\n",
       "      <td>3.0</td>\n",
       "      <td>2.0</td>\n",
       "      <td>260.0</td>\n",
       "      <td>[Average, Nice an informal]]</td>\n",
       "      <td>/Restaurant_Review-g187849-d1109020-Reviews-Ta...</td>\n",
       "      <td>d1109020</td>\n",
       "      <td>1306.0</td>\n",
       "      <td>2012-07-04</td>\n",
       "      <td>1.0</td>\n",
       "      <td>Italy</td>\n",
       "    </tr>\n",
       "  </tbody>\n",
       "</table>\n",
       "<p>193660 rows × 14 columns</p>\n",
       "</div>"
      ],
      "text/plain": [
       "        restaurant_id    city        cuisine_style  ranking  rating  \\\n",
       "0                5569   Paris             European   5570.0     3.5   \n",
       "1                5569   Paris             European   5570.0     3.5   \n",
       "2                5569   Paris               French   5570.0     3.5   \n",
       "3                5569   Paris               French   5570.0     3.5   \n",
       "4                5569   Paris        International   5570.0     3.5   \n",
       "...               ...     ...                  ...      ...     ...   \n",
       "193655            640  Warsaw     Central European    641.0     4.0   \n",
       "193656            640  Warsaw  Vegetarian Friendly    641.0     4.0   \n",
       "193657            640  Warsaw  Vegetarian Friendly    641.0     4.0   \n",
       "193658           4824   Milan              Spanish   4827.0     3.0   \n",
       "193659           4824   Milan              Spanish   4827.0     3.0   \n",
       "\n",
       "        price_range  number_of_reviews  \\\n",
       "0               2.0              194.0   \n",
       "1               2.0              194.0   \n",
       "2               2.0              194.0   \n",
       "3               2.0              194.0   \n",
       "4               2.0              194.0   \n",
       "...             ...                ...   \n",
       "193655          2.0               70.0   \n",
       "193656          2.0               70.0   \n",
       "193657          2.0               70.0   \n",
       "193658          2.0              260.0   \n",
       "193659          2.0              260.0   \n",
       "\n",
       "                                                  reviews  \\\n",
       "0       [Good food at your doorstep, A good hotel rest...   \n",
       "1       [Good food at your doorstep, A good hotel rest...   \n",
       "2       [Good food at your doorstep, A good hotel rest...   \n",
       "3       [Good food at your doorstep, A good hotel rest...   \n",
       "4       [Good food at your doorstep, A good hotel rest...   \n",
       "...                                                   ...   \n",
       "193655  [Underground restaurant, Oldest Restaurant in ...   \n",
       "193656  [Underground restaurant, Oldest Restaurant in ...   \n",
       "193657  [Underground restaurant, Oldest Restaurant in ...   \n",
       "193658                       [Average, Nice an informal]]   \n",
       "193659                       [Average, Nice an informal]]   \n",
       "\n",
       "                                                   url_ta     id_ta  day_rev  \\\n",
       "0       /Restaurant_Review-g187147-d1912643-Reviews-R_...  d1912643     41.0   \n",
       "1       /Restaurant_Review-g187147-d1912643-Reviews-R_...  d1912643     41.0   \n",
       "2       /Restaurant_Review-g187147-d1912643-Reviews-R_...  d1912643     41.0   \n",
       "3       /Restaurant_Review-g187147-d1912643-Reviews-R_...  d1912643     41.0   \n",
       "4       /Restaurant_Review-g187147-d1912643-Reviews-R_...  d1912643     41.0   \n",
       "...                                                   ...       ...      ...   \n",
       "193655  /Restaurant_Review-g274856-d1100838-Reviews-Ho...  d1100838     23.0   \n",
       "193656  /Restaurant_Review-g274856-d1100838-Reviews-Ho...  d1100838     23.0   \n",
       "193657  /Restaurant_Review-g274856-d1100838-Reviews-Ho...  d1100838     23.0   \n",
       "193658  /Restaurant_Review-g187849-d1109020-Reviews-Ta...  d1109020   1306.0   \n",
       "193659  /Restaurant_Review-g187849-d1109020-Reviews-Ta...  d1109020   1306.0   \n",
       "\n",
       "       reviews_date  chain_rest country  \n",
       "0        2017-12-31         1.0  France  \n",
       "1        2017-11-20         1.0  France  \n",
       "2        2017-12-31         1.0  France  \n",
       "3        2017-11-20         1.0  France  \n",
       "4        2017-12-31         1.0  France  \n",
       "...             ...         ...     ...  \n",
       "193655   2017-06-18         1.0  Poland  \n",
       "193656   2017-07-11         1.0  Poland  \n",
       "193657   2017-06-18         1.0  Poland  \n",
       "193658   2016-01-31         1.0   Italy  \n",
       "193659   2012-07-04         1.0   Italy  \n",
       "\n",
       "[193660 rows x 14 columns]"
      ]
     },
     "execution_count": 23,
     "metadata": {},
     "output_type": "execute_result"
    }
   ],
   "source": [
    "# делаем переиндексацию dataframe перед добавлением dummy переменных\n",
    "df.reset_index(drop=True)"
   ]
  },
  {
   "cell_type": "code",
   "execution_count": 24,
   "metadata": {
    "scrolled": false
   },
   "outputs": [
    {
     "data": {
      "text/html": [
       "<div>\n",
       "<style scoped>\n",
       "    .dataframe tbody tr th:only-of-type {\n",
       "        vertical-align: middle;\n",
       "    }\n",
       "\n",
       "    .dataframe tbody tr th {\n",
       "        vertical-align: top;\n",
       "    }\n",
       "\n",
       "    .dataframe thead th {\n",
       "        text-align: right;\n",
       "    }\n",
       "</style>\n",
       "<table border=\"1\" class=\"dataframe\">\n",
       "  <thead>\n",
       "    <tr style=\"text-align: right;\">\n",
       "      <th></th>\n",
       "      <th>restaurant_id</th>\n",
       "      <th>ranking</th>\n",
       "      <th>rating</th>\n",
       "      <th>price_range</th>\n",
       "      <th>number_of_reviews</th>\n",
       "      <th>day_rev</th>\n",
       "      <th>chain_rest</th>\n",
       "    </tr>\n",
       "  </thead>\n",
       "  <tbody>\n",
       "    <tr>\n",
       "      <th>restaurant_id</th>\n",
       "      <td>1.000000</td>\n",
       "      <td>1.000000</td>\n",
       "      <td>-0.401200</td>\n",
       "      <td>-0.080341</td>\n",
       "      <td>-0.238215</td>\n",
       "      <td>0.125747</td>\n",
       "      <td>-0.679468</td>\n",
       "    </tr>\n",
       "    <tr>\n",
       "      <th>ranking</th>\n",
       "      <td>1.000000</td>\n",
       "      <td>1.000000</td>\n",
       "      <td>-0.401215</td>\n",
       "      <td>-0.080353</td>\n",
       "      <td>-0.238251</td>\n",
       "      <td>0.125718</td>\n",
       "      <td>-0.679458</td>\n",
       "    </tr>\n",
       "    <tr>\n",
       "      <th>rating</th>\n",
       "      <td>-0.401200</td>\n",
       "      <td>-0.401215</td>\n",
       "      <td>1.000000</td>\n",
       "      <td>-0.028866</td>\n",
       "      <td>0.035344</td>\n",
       "      <td>-0.112444</td>\n",
       "      <td>0.243752</td>\n",
       "    </tr>\n",
       "    <tr>\n",
       "      <th>price_range</th>\n",
       "      <td>-0.080341</td>\n",
       "      <td>-0.080353</td>\n",
       "      <td>-0.028866</td>\n",
       "      <td>1.000000</td>\n",
       "      <td>0.159871</td>\n",
       "      <td>-0.047734</td>\n",
       "      <td>0.036040</td>\n",
       "    </tr>\n",
       "    <tr>\n",
       "      <th>number_of_reviews</th>\n",
       "      <td>-0.238215</td>\n",
       "      <td>-0.238251</td>\n",
       "      <td>0.035344</td>\n",
       "      <td>0.159871</td>\n",
       "      <td>1.000000</td>\n",
       "      <td>-0.153694</td>\n",
       "      <td>0.112608</td>\n",
       "    </tr>\n",
       "    <tr>\n",
       "      <th>day_rev</th>\n",
       "      <td>0.125747</td>\n",
       "      <td>0.125718</td>\n",
       "      <td>-0.112444</td>\n",
       "      <td>-0.047734</td>\n",
       "      <td>-0.153694</td>\n",
       "      <td>1.000000</td>\n",
       "      <td>-0.069397</td>\n",
       "    </tr>\n",
       "    <tr>\n",
       "      <th>chain_rest</th>\n",
       "      <td>-0.679468</td>\n",
       "      <td>-0.679458</td>\n",
       "      <td>0.243752</td>\n",
       "      <td>0.036040</td>\n",
       "      <td>0.112608</td>\n",
       "      <td>-0.069397</td>\n",
       "      <td>1.000000</td>\n",
       "    </tr>\n",
       "  </tbody>\n",
       "</table>\n",
       "</div>"
      ],
      "text/plain": [
       "                   restaurant_id   ranking    rating  price_range  \\\n",
       "restaurant_id           1.000000  1.000000 -0.401200    -0.080341   \n",
       "ranking                 1.000000  1.000000 -0.401215    -0.080353   \n",
       "rating                 -0.401200 -0.401215  1.000000    -0.028866   \n",
       "price_range            -0.080341 -0.080353 -0.028866     1.000000   \n",
       "number_of_reviews      -0.238215 -0.238251  0.035344     0.159871   \n",
       "day_rev                 0.125747  0.125718 -0.112444    -0.047734   \n",
       "chain_rest             -0.679468 -0.679458  0.243752     0.036040   \n",
       "\n",
       "                   number_of_reviews   day_rev  chain_rest  \n",
       "restaurant_id              -0.238215  0.125747   -0.679468  \n",
       "ranking                    -0.238251  0.125718   -0.679458  \n",
       "rating                      0.035344 -0.112444    0.243752  \n",
       "price_range                 0.159871 -0.047734    0.036040  \n",
       "number_of_reviews           1.000000 -0.153694    0.112608  \n",
       "day_rev                    -0.153694  1.000000   -0.069397  \n",
       "chain_rest                  0.112608 -0.069397    1.000000  "
      ]
     },
     "execution_count": 24,
     "metadata": {},
     "output_type": "execute_result"
    }
   ],
   "source": [
    "df.corr()"
   ]
  },
  {
   "cell_type": "code",
   "execution_count": 25,
   "metadata": {},
   "outputs": [
    {
     "name": "stdout",
     "output_type": "stream",
     "text": [
      "<class 'pandas.core.frame.DataFrame'>\n",
      "Int64Index: 193660 entries, 0 to 39999\n",
      "Data columns (total 14 columns):\n",
      " #   Column             Non-Null Count   Dtype         \n",
      "---  ------             --------------   -----         \n",
      " 0   restaurant_id      193660 non-null  int64         \n",
      " 1   city               193660 non-null  object        \n",
      " 2   cuisine_style      193660 non-null  object        \n",
      " 3   ranking            193660 non-null  float64       \n",
      " 4   rating             193660 non-null  float64       \n",
      " 5   price_range        193660 non-null  float64       \n",
      " 6   number_of_reviews  193660 non-null  float64       \n",
      " 7   reviews            193660 non-null  object        \n",
      " 8   url_ta             193660 non-null  object        \n",
      " 9   id_ta              193660 non-null  object        \n",
      " 10  day_rev            193660 non-null  float64       \n",
      " 11  reviews_date       184350 non-null  datetime64[ns]\n",
      " 12  chain_rest         193660 non-null  float64       \n",
      " 13  country            193660 non-null  object        \n",
      "dtypes: datetime64[ns](1), float64(6), int64(1), object(6)\n",
      "memory usage: 22.2+ MB\n"
     ]
    }
   ],
   "source": [
    "df.info()"
   ]
  },
  {
   "cell_type": "code",
   "execution_count": 32,
   "metadata": {},
   "outputs": [
    {
     "data": {
      "image/png": "[encoded data removed]",
      "text/plain": [
       "<Figure size 720x288 with 1 Axes>"
      ]
     },
     "metadata": {
      "needs_background": "light"
     },
     "output_type": "display_data"
    },
    {
     "data": {
      "image/png": "[encoded data removed]",
      "text/plain": [
       "<Figure size 720x288 with 1 Axes>"
      ]
     },
     "metadata": {
      "needs_background": "light"
     },
     "output_type": "display_data"
    },
    {
     "data": {
      "image/png": "[encoded data removed]",
      "text/plain": [
       "<Figure size 720x288 with 1 Axes>"
      ]
     },
     "metadata": {
      "needs_background": "light"
     },
     "output_type": "display_data"
    },
    {
     "data": {
      "image/png": "[encoded data removed]",
      "text/plain": [
       "<Figure size 720x288 with 1 Axes>"
      ]
     },
     "metadata": {
      "needs_background": "light"
     },
     "output_type": "display_data"
    }
   ],
   "source": [
    "for col in ['city', 'cuisine_style', 'reviews_date', 'country']:\n",
    "    get_boxplot(col)"
   ]
  },
  {
   "cell_type": "code",
   "execution_count": 33,
   "metadata": {},
   "outputs": [],
   "source": [
    "# удаляем не интересные нам столбцы и столбец rest_id ввиду его полной корреляции с ranking\n",
    "df = df.drop(['restaurant_id', 'reviews',\n",
    "              'reviews_date', 'url_ta', 'id_ta'], axis=1)"
   ]
  },
  {
   "cell_type": "raw",
   "metadata": {},
   "source": [
    "Как видно из графика наиболее интересны для преобразования в dummy переменные - city, cuisine_style и country"
   ]
  },
  {
   "cell_type": "markdown",
   "metadata": {},
   "source": [
    "# Создание dammy-переменных"
   ]
  },
  {
   "cell_type": "code",
   "execution_count": 34,
   "metadata": {},
   "outputs": [],
   "source": [
    "df = pd.get_dummies(data=df, columns=['city', 'country', 'cuisine_style'])"
   ]
  },
  {
   "cell_type": "markdown",
   "metadata": {},
   "source": [
    "# Разбиваем датафрейм на части, необходимые для обучения и тестирования модели"
   ]
  },
  {
   "cell_type": "code",
   "execution_count": 35,
   "metadata": {},
   "outputs": [],
   "source": [
    "# Х - данные с информацией о ресторанах, у - целевая переменная (рейтинги ресторанов)\n",
    "X = df.drop(['rating'], axis=1)\n",
    "y = df['rating']"
   ]
  },
  {
   "cell_type": "code",
   "execution_count": 36,
   "metadata": {},
   "outputs": [],
   "source": [
    "# Загружаем специальный инструмент для разбивки:\n",
    "from sklearn.model_selection import train_test_split"
   ]
  },
  {
   "cell_type": "code",
   "execution_count": 37,
   "metadata": {},
   "outputs": [],
   "source": [
    "# Наборы данных с меткой \"train\" будут использоваться для обучения модели, \"test\" - для тестирования.\n",
    "# Для тестирования мы будем использовать 25% от исходного датасета.\n",
    "X_train, X_test, y_train, y_test = train_test_split(X, y, test_size=0.25)"
   ]
  },
  {
   "cell_type": "markdown",
   "metadata": {},
   "source": [
    "# Создаём, обучаем и тестируем модель"
   ]
  },
  {
   "cell_type": "code",
   "execution_count": 38,
   "metadata": {},
   "outputs": [],
   "source": [
    "# Импортируем необходимые библиотеки:\n",
    "# инструмент для создания и обучения модели\n",
    "from sklearn.ensemble import RandomForestRegressor\n",
    "from sklearn import metrics  # инструменты для оценки точности модели"
   ]
  },
  {
   "cell_type": "code",
   "execution_count": 39,
   "metadata": {},
   "outputs": [],
   "source": [
    "# Создаём модель\n",
    "regr = RandomForestRegressor(n_estimators=100)\n",
    "\n",
    "# Обучаем модель на тестовом наборе данных\n",
    "regr.fit(X_train, y_train)\n",
    "\n",
    "# Используем обученную модель для предсказания рейтинга ресторанов в тестовой выборке.\n",
    "# Предсказанные значения записываем в переменную y_pred\n",
    "y_pred = regr.predict(X_test)"
   ]
  },
  {
   "cell_type": "code",
   "execution_count": 40,
   "metadata": {},
   "outputs": [
    {
     "name": "stdout",
     "output_type": "stream",
     "text": [
      "MAE: 0.0413385314468656\n"
     ]
    }
   ],
   "source": [
    "# Сравниваем предсказанные значения (y_pred) с реальными (y_test), и смотрим насколько они в среднем отличаются\n",
    "# Метрика называется Mean Absolute Error (MAE) и показывает среднее отклонение предсказанных значений от фактических.\n",
    "print('MAE:', metrics.mean_absolute_error(y_test, y_pred))"
   ]
  },
  {
   "cell_type": "code",
   "execution_count": null,
   "metadata": {},
   "outputs": [],
   "source": []
  }
 ],
 "metadata": {
  "kernelspec": {
   "display_name": "Python 3",
   "language": "python",
   "name": "python3"
  },
  "language_info": {
   "codemirror_mode": {
    "name": "ipython",
    "version": 3
   },
   "file_extension": ".py",
   "mimetype": "text/x-python",
   "name": "python",
   "nbconvert_exporter": "python",
   "pygments_lexer": "ipython3",
   "version": "3.8.3"
  }
 },
 "nbformat": 4,
 "nbformat_minor": 2
}
